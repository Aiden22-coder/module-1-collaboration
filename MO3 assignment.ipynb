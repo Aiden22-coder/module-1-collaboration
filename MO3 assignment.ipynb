{
 "cells": [
  {
   "cell_type": "code",
   "execution_count": 1,
   "id": "d49abad0-ed9b-4ed7-a9e6-12c0dcb5b1de",
   "metadata": {},
   "outputs": [
    {
     "name": "stdout",
     "output_type": "stream",
     "text": [
      "['mozzarella', 'Cinderella', 'salmonella']\n",
      "['MOZZARELLA', 'Cinderella', 'salmonella']\n",
      "['MOZZARELLA', 'Cinderella']\n"
     ]
    }
   ],
   "source": [
    "# 7.4 Make a list called things with these three strings as elements: \"mozzarella\", \"cinderella\", \"salmonella\".\n",
    "things = [\"mozzarella\", \"cinderella\", \"salmonella\"]\n",
    "\n",
    "# 7.5 Capitalize the element in things that refers to a person and then print the list. \n",
    "# Did it change the element in the list?\n",
    "things[1] = things[1].capitalize()  # \"cinderella\" is a person\n",
    "print(things)  # ['mozzarella', 'Cinderella', 'salmonella']\n",
    "\n",
    "# 7.6 Make the cheesy element of things all uppercase and then print the list.\n",
    "things[0] = things[0].upper()  # \"mozzarella\" is cheesy\n",
    "print(things)  # ['MOZZARELLA', 'Cinderella', 'salmonella']\n",
    "\n",
    "# 7.7 Delete the disease element from things, collect your Nobel Prize, and print the list.\n",
    "del things[2]  # \"salmonella\" is a disease\n",
    "print(things)  # ['MOZZARELLA', 'Cinderella']\n"
   ]
  },
  {
   "cell_type": "code",
   "execution_count": null,
   "id": "55a38f29-e5f7-49ef-92cf-74f0bed251f9",
   "metadata": {},
   "outputs": [],
   "source": []
  },
  {
   "cell_type": "code",
   "execution_count": 1,
   "id": "de4b8983-32ad-4cb1-9f8a-3db44411800e",
   "metadata": {},
   "outputs": [
    {
     "name": "stdout",
     "output_type": "stream",
     "text": [
      "['mozzarella', 'Cinderella', 'salmonella']\n",
      "['MOZZARELLA', 'Cinderella', 'salmonella']\n",
      "['MOZZARELLA', 'Cinderella']\n"
     ]
    }
   ],
   "source": [
    "# 7.4 Make a list called things with these three strings as elements: \"mozzarella\", \"cinderella\", \"salmonella\".\n",
    "things = [\"mozzarella\", \"cinderella\", \"salmonella\"]\n",
    "\n",
    "# 7.5 Capitalize the element in things that refers to a person and then print the list. \n",
    "# Did it change the element in the list?\n",
    "things[1] = things[1].capitalize()  # \"cinderella\" is a person\n",
    "print(things)  # ['mozzarella', 'Cinderella', 'salmonella']\n",
    "\n",
    "# 7.6 Make the cheesy element of things all uppercase and then print the list.\n",
    "things[0] = things[0].upper()  # \"mozzarella\" is cheesy\n",
    "print(things)  # ['MOZZARELLA', 'Cinderella', 'salmonella']\n",
    "\n",
    "# 7.7 Delete the disease element from things, collect your Nobel Prize, and print the list.\n",
    "del things[2]  # \"salmonella\" is a disease\n",
    "print(things)  # ['MOZZARELLA', 'Cinderella']\n"
   ]
  },
  {
   "cell_type": "code",
   "execution_count": 3,
   "id": "48bc2c90-afdc-4c07-98a3-adfde230b2e1",
   "metadata": {},
   "outputs": [],
   "source": [
    "# 7.4 Make a list called things with these three strings as elements: \"mozzarella\", \"cinderella\", \"salmonella\".\n",
    "things = [\"mozzarella\", \"cinderella\", \"salmonella\"]"
   ]
  },
  {
   "cell_type": "code",
   "execution_count": 5,
   "id": "44986b31-e64d-43c5-a459-084f1fea8a66",
   "metadata": {},
   "outputs": [
    {
     "name": "stdout",
     "output_type": "stream",
     "text": [
      "['mozzarella', 'Cinderella', 'salmonella']\n"
     ]
    }
   ],
   "source": [
    "# 7.5 Capitalize the element in things that refers to a person and then print the list. \n",
    "# Did it change the element in the list?\n",
    "things[1] = things[1].capitalize()  # \"cinderella\" is a person\n",
    "print(things)  # ['mozzarella', 'Cinderella', 'salmonella']"
   ]
  },
  {
   "cell_type": "code",
   "execution_count": 7,
   "id": "c0316872-55c7-4d2b-b2db-3a5b5a0bb0db",
   "metadata": {},
   "outputs": [
    {
     "name": "stdout",
     "output_type": "stream",
     "text": [
      "['MOZZARELLA', 'Cinderella', 'salmonella']\n"
     ]
    }
   ],
   "source": [
    "# 7.6 Make the cheesy element of things all uppercase and then print the list.\n",
    "things[0] = things[0].upper()  # \"mozzarella\" is cheesy\n",
    "print(things)  # ['MOZZARELLA', 'Cinderella', 'salmonella']\n"
   ]
  },
  {
   "cell_type": "code",
   "execution_count": 9,
   "id": "ca69d341-b914-45a5-a91d-48adf6a533b9",
   "metadata": {},
   "outputs": [
    {
     "name": "stdout",
     "output_type": "stream",
     "text": [
      "['MOZZARELLA', 'Cinderella']\n"
     ]
    }
   ],
   "source": [
    "# 7.7 Delete the disease element from things, collect your Nobel Prize, and print the list.\n",
    "del things[2]  # \"salmonella\" is a disease\n",
    "print(things)  # ['MOZZARELLA', 'Cinderella']"
   ]
  },
  {
   "cell_type": "code",
   "execution_count": 11,
   "id": "8df76ba7-ace3-44a6-905d-a89d09a146a7",
   "metadata": {},
   "outputs": [],
   "source": [
    "def good():\n",
    "    return ['Harry', 'Ron', 'Hermione']\n"
   ]
  },
  {
   "cell_type": "code",
   "execution_count": 13,
   "id": "be6cd39a-41d6-4691-a436-5008a3bbb32e",
   "metadata": {},
   "outputs": [],
   "source": [
    "def get_odds():\n",
    "    for num in range(10):\n",
    "        if num % 2 != 0:\n",
    "            yield num\n"
   ]
  },
  {
   "cell_type": "code",
   "execution_count": 15,
   "id": "9c3dd81f-7db2-4fef-833f-9da3a331e9d2",
   "metadata": {},
   "outputs": [
    {
     "name": "stdout",
     "output_type": "stream",
     "text": [
      "5\n"
     ]
    }
   ],
   "source": [
    "# Create the generator\n",
    "odd_gen = get_odds()\n",
    "\n",
    "# Use a for loop to get the third odd number\n",
    "third_odd = None \n",
    "for i, value in enumerate(odd_gen):\n",
    "    if i == 2:  \n",
    "        third_odd = value\n",
    "        break\n",
    "\n",
    "print(third_odd)  # Output: 5\n"
   ]
  },
  {
   "cell_type": "code",
   "execution_count": 17,
   "id": "f47828b6-6569-4678-bbce-77918c9b87c6",
   "metadata": {},
   "outputs": [
    {
     "name": "stdout",
     "output_type": "stream",
     "text": [
      "5\n"
     ]
    }
   ],
   "source": [
    "# Create the generator\n",
    "odd_gen = get_odds()\n",
    "\n",
    "# Use a for loop to get the third odd number\n",
    "third_odd = None\n",
    "for i, value in enumerate(odd_gen):\n",
    "    if i == 2:  # This will be the third value (index 2)\n",
    "        third_odd = value\n",
    "        break\n",
    "\n",
    "print(third_odd)  # Output: 5\n"
   ]
  },
  {
   "cell_type": "code",
   "execution_count": null,
   "id": "4b08306f-1bd4-4ba0-a8e1-c547bf816221",
   "metadata": {},
   "outputs": [],
   "source": []
  }
 ],
 "metadata": {
  "kernelspec": {
   "display_name": "anaconda-2024.02-py310",
   "language": "python",
   "name": "conda-env-anaconda-2024.02-py310-py"
  },
  "language_info": {
   "codemirror_mode": {
    "name": "ipython",
    "version": 3
   },
   "file_extension": ".py",
   "mimetype": "text/x-python",
   "name": "python",
   "nbconvert_exporter": "python",
   "pygments_lexer": "ipython3",
   "version": "3.10.14"
  }
 },
 "nbformat": 4,
 "nbformat_minor": 5
}
