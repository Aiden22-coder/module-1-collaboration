{
 "cells": [
  {
   "cell_type": "code",
   "execution_count": 1,
   "id": "3d42b7e4-9522-4753-8ed4-08c7b4692b78",
   "metadata": {},
   "outputs": [
    {
     "name": "stdout",
     "output_type": "stream",
     "text": [
      "Sorted array: [0, 0, 1, 1, 2, 2]\n"
     ]
    }
   ],
   "source": [
    "def sort012(arr):\n",
    "    low, mid, high = 0, 0, len(arr) - 1\n",
    "\n",
    "    while mid <= high:\n",
    "        if arr[mid] == 0:\n",
    "            arr[low], arr[mid] = arr[mid], arr[low]\n",
    "            low += 1\n",
    "            mid += 1\n",
    "        elif arr[mid] == 1:\n",
    "            mid += 1\n",
    "        else:\n",
    "            arr[mid], arr[high] = arr[high], arr[mid]\n",
    "            high -= 1\n",
    "\n",
    "# Example usage\n",
    "arr = [2, 0, 2, 1, 1, 0]\n",
    "sort012(arr)\n",
    "print(\"Sorted array:\", arr)\n"
   ]
  },
  {
   "cell_type": "code",
   "execution_count": 3,
   "id": "cc4f241b-997e-4fbd-ad2c-a38e30d3832c",
   "metadata": {},
   "outputs": [
    {
     "name": "stdout",
     "output_type": "stream",
     "text": [
      "Smallest index of 2 : 1\n"
     ]
    }
   ],
   "source": [
    "def binary_search(arr, k):\n",
    "    left, right = 0, len(arr) - 1\n",
    "    result = -1  # Store the smallest index where k is found\n",
    "\n",
    "    while left <= right:\n",
    "        mid = left + (right - left) // 2\n",
    "\n",
    "        if arr[mid] == k:\n",
    "            result = mid  # Update result with the current index\n",
    "            right = mid - 1  # Continue searching in the left half for the first occurrence\n",
    "        elif arr[mid] < k:\n",
    "            left = mid + 1\n",
    "        else:\n",
    "            right = mid - 1\n",
    "\n",
    "    return result\n",
    "\n",
    "# Example usage\n",
    "arr = [1, 2, 2, 2, 3, 4, 5]\n",
    "k = 2\n",
    "print(\"Smallest index of\", k, \":\", binary_search(arr, k))\n"
   ]
  },
  {
   "cell_type": "code",
   "execution_count": null,
   "id": "a38ac2ee-6727-4c0f-a591-099d94312a4f",
   "metadata": {},
   "outputs": [],
   "source": []
  }
 ],
 "metadata": {
  "kernelspec": {
   "display_name": "anaconda-2024.02-py310",
   "language": "python",
   "name": "conda-env-anaconda-2024.02-py310-py"
  },
  "language_info": {
   "codemirror_mode": {
    "name": "ipython",
    "version": 3
   },
   "file_extension": ".py",
   "mimetype": "text/x-python",
   "name": "python",
   "nbconvert_exporter": "python",
   "pygments_lexer": "ipython3",
   "version": "3.10.14"
  }
 },
 "nbformat": 4,
 "nbformat_minor": 5
}
