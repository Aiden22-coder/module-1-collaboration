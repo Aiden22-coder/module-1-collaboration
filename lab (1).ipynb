{
 "cells": [
  {
   "cell_type": "code",
   "execution_count": 1,
   "id": "a7e36a40-8db1-4481-a26f-7128f7f36e58",
   "metadata": {},
   "outputs": [
    {
     "name": "stdin",
     "output_type": "stream",
     "text": [
      "Enter the year of the car:  2006\n",
      "Enter the make of the car:  dodgwe\n",
      "Enter the model of the car:  charger\n",
      "Enter the number of doors (2 or 4):  4\n",
      "Enter the type of roof (solid or sun roof):  solid\n"
     ]
    },
    {
     "name": "stdout",
     "output_type": "stream",
     "text": [
      "\n",
      "Vehicle Information:\n",
      "  Vehicle type: car\n",
      "  Year: 2006\n",
      "  Make: dodgwe\n",
      "  Model: charger\n",
      "  Number of doors: 4\n",
      "  Type of roof: solid\n"
     ]
    }
   ],
   "source": [
    "class Vehicle:\n",
    "    def __init__(self, vehicle_type):\n",
    "        self.vehicle_type = vehicle_type\n",
    "\n",
    "class Automobile(Vehicle):\n",
    "    def __init__(self, year, make, model, doors, roof):\n",
    "        super().__init__(\"car\")  # Setting vehicle type to \"car\"\n",
    "        self.year = year\n",
    "        self.make = make\n",
    "        self.model = model\n",
    "        self.doors = doors\n",
    "        self.roof = roof\n",
    "    \n",
    "    def display_info(self):\n",
    "        print(\"\\nVehicle Information:\")\n",
    "        print(f\"  Vehicle type: {self.vehicle_type}\")\n",
    "        print(f\"  Year: {self.year}\")\n",
    "        print(f\"  Make: {self.make}\")\n",
    "        print(f\"  Model: {self.model}\")\n",
    "        print(f\"  Number of doors: {self.doors}\")\n",
    "        print(f\"  Type of roof: {self.roof}\")\n",
    "\n",
    "# Accept user input\n",
    "year = input(\"Enter the year of the car: \")\n",
    "make = input(\"Enter the make of the car: \")\n",
    "model = input(\"Enter the model of the car: \")\n",
    "doors = input(\"Enter the number of doors (2 or 4): \")\n",
    "roof = input(\"Enter the type of roof (solid or sun roof): \")\n",
    "\n",
    "# Create an instance of Automobile\n",
    "car = Automobile(year, make, model, doors, roof)\n",
    "\n",
    "# Display the car information\n",
    "car.display_info()\n"
   ]
  },
  {
   "cell_type": "code",
   "execution_count": null,
   "id": "d1274431-61e3-43c9-ae28-8deb27b5cca5",
   "metadata": {},
   "outputs": [],
   "source": []
  }
 ],
 "metadata": {
  "kernelspec": {
   "display_name": "anaconda-ai-2024.04-py310",
   "language": "python",
   "name": "conda-env-anaconda-ai-2024.04-py310-py"
  },
  "language_info": {
   "codemirror_mode": {
    "name": "ipython",
    "version": 3
   },
   "file_extension": ".py",
   "mimetype": "text/x-python",
   "name": "python",
   "nbconvert_exporter": "python",
   "pygments_lexer": "ipython3",
   "version": "3.10.13"
  }
 },
 "nbformat": 4,
 "nbformat_minor": 5
}
