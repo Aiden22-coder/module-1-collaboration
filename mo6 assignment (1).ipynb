{
 "cells": [
  {
   "cell_type": "code",
   "execution_count": 1,
   "id": "0c30f8da-ada9-45e5-a560-4000d4b22570",
   "metadata": {},
   "outputs": [
    {
     "name": "stdout",
     "output_type": "stream",
     "text": [
      "Date written to file: 2025-02-24\n",
      "Parsed date: 2025-02-24\n"
     ]
    }
   ],
   "source": [
    "from datetime import date, datetime  \n",
    "\n",
    "# 13.1 Write the current date to a file  \n",
    "with open(\"today.txt\", \"w\") as file:  \n",
    "    file.write(date.today().isoformat())  \n",
    "\n",
    "# 13.2 Read the date from the file into a string  \n",
    "with open(\"today.txt\", \"r\") as file:  \n",
    "    today_string = file.read().strip()  \n",
    "\n",
    "# 13.3 Parse the date from today_string  \n",
    "parsed_date = datetime.strptime(today_string, \"%Y-%m-%d\").date()  \n",
    "\n",
    "# Print results  \n",
    "print(\"Date written to file:\", today_string)  \n",
    "print(\"Parsed date:\", parsed_date)  \n"
   ]
  },
  {
   "cell_type": "code",
   "execution_count": 3,
   "id": "ed93a556-0f17-4286-9e12-e987b75fa8d6",
   "metadata": {},
   "outputs": [
    {
     "name": "stdout",
     "output_type": "stream",
     "text": [
      "Process Process-3 - Time: 20:18:22.340738\n",
      "Process Process-1 - Time: 20:18:22.557153\n",
      "Process Process-2 - Time: 20:18:23.023067\n"
     ]
    }
   ],
   "source": [
    "import multiprocessing\n",
    "import time\n",
    "import random\n",
    "from datetime import datetime\n",
    "\n",
    "def print_time():\n",
    "    wait_time = random.uniform(0, 1)  # Generate a random float between 0 and 1\n",
    "    time.sleep(wait_time)  # Pause execution for the random duration\n",
    "    print(f\"Process {multiprocessing.current_process().name} - Time: {datetime.now().strftime('%H:%M:%S.%f')}\")\n",
    "\n",
    "if __name__ == \"__main__\":\n",
    "    processes = []\n",
    "    \n",
    "    # Create and start three processes\n",
    "    for i in range(3):\n",
    "        process = multiprocessing.Process(target=print_time, name=f\"Process-{i+1}\")\n",
    "        processes.append(process)\n",
    "        process.start()\n",
    "    \n",
    "    # Wait for all processes to complete\n",
    "    for process in processes:\n",
    "        process.join()\n"
   ]
  },
  {
   "cell_type": "code",
   "execution_count": null,
   "id": "4dfdcc75-0160-403c-aa0e-d4b88e92f2da",
   "metadata": {},
   "outputs": [],
   "source": []
  }
 ],
 "metadata": {
  "kernelspec": {
   "display_name": "anaconda-2024.02-py310",
   "language": "python",
   "name": "conda-env-anaconda-2024.02-py310-py"
  },
  "language_info": {
   "codemirror_mode": {
    "name": "ipython",
    "version": 3
   },
   "file_extension": ".py",
   "mimetype": "text/x-python",
   "name": "python",
   "nbconvert_exporter": "python",
   "pygments_lexer": "ipython3",
   "version": "3.10.14"
  }
 },
 "nbformat": 4,
 "nbformat_minor": 5
}
