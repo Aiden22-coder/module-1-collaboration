{
 "cells": [
  {
   "cell_type": "code",
   "execution_count": 1,
   "id": "d5b72b82-22d7-4c83-8974-98fee8fc1f7f",
   "metadata": {},
   "outputs": [
    {
     "name": "stderr",
     "output_type": "stream",
     "text": [
      "..\n",
      "----------------------------------------------------------------------\n",
      "Ran 2 tests in 0.003s\n",
      "\n",
      "OK\n"
     ]
    }
   ],
   "source": [
    "import unittest\n",
    "\n",
    "def add(x, y):\n",
    "    return x + y\n",
    "\n",
    "def subtract(x, y):\n",
    "    return x - y\n",
    "\n",
    "# Creating a test case class\n",
    "class TestMathOperations(unittest.TestCase):\n",
    "    \n",
    "    def test_add(self):\n",
    "        self.assertEqual(add(3, 5), 8)\n",
    "        self.assertEqual(add(-1, 1), 0)\n",
    "        self.assertEqual(add(0, 0), 0)\n",
    "    \n",
    "    def test_subtract(self):\n",
    "        self.assertEqual(subtract(10, 5), 5)\n",
    "        self.assertEqual(subtract(0, 4), -4)\n",
    "        self.assertEqual(subtract(3, 3), 0)\n",
    "\n",
    "# Running the tests (Note: unittest.main() does not work well in Jupyter Notebooks)\n",
    "if __name__ == \"__main__\":\n",
    "    unittest.TextTestRunner().run(unittest.defaultTestLoader.loadTestsFromTestCase(TestMathOperations))\n",
    "\n"
   ]
  },
  {
   "cell_type": "code",
   "execution_count": null,
   "id": "97b833e1-e4cb-41e0-ae76-7c31bfd6689e",
   "metadata": {},
   "outputs": [],
   "source": [
    "This notebook contains a unit test for two simple mathematical functions, add and subtract, using Python's unittest module. It includes:\n",
    "\n",
    "Defining functions for addition and subtraction.\n",
    "Writing test cases to verify the correctness of these functions.\n",
    "Executing the tests within a Jupyter Notebook.\n",
    "The final section explains that the test results will confirm whether the functions return the expected values. If all tests pass, the functions work correctly; otherwise, debugging is needed based on the failure messages."
   ]
  }
 ],
 "metadata": {
  "kernelspec": {
   "display_name": "anaconda-2024.02-py310",
   "language": "python",
   "name": "conda-env-anaconda-2024.02-py310-py"
  },
  "language_info": {
   "codemirror_mode": {
    "name": "ipython",
    "version": 3
   },
   "file_extension": ".py",
   "mimetype": "text/x-python",
   "name": "python",
   "nbconvert_exporter": "python",
   "pygments_lexer": "ipython3",
   "version": "3.10.14"
  }
 },
 "nbformat": 4,
 "nbformat_minor": 5
}
